{
 "cells": [
  {
   "cell_type": "markdown",
   "metadata": {},
   "source": [
    "# How should you invest in the markets?"
   ]
  },
  {
   "cell_type": "code",
   "execution_count": 1,
   "metadata": {},
   "outputs": [],
   "source": [
    "import pandas as pd\n",
    "import numpy as np\n",
    "import matplotlib.pyplot as plt\n",
    "import seaborn as sns"
   ]
  },
  {
   "cell_type": "code",
   "execution_count": 2,
   "metadata": {},
   "outputs": [],
   "source": [
    "sp = pd.read_csv('SP500.csv', index_col='Date')\n",
    "gld = pd.read_csv('GLD.csv', index_col='Date')\n",
    "ief = pd.read_csv('IEF.csv', index_col='Date')"
   ]
  },
  {
   "cell_type": "code",
   "execution_count": 3,
   "metadata": {},
   "outputs": [
    {
     "data": {
      "text/html": [
       "<div>\n",
       "<style scoped>\n",
       "    .dataframe tbody tr th:only-of-type {\n",
       "        vertical-align: middle;\n",
       "    }\n",
       "\n",
       "    .dataframe tbody tr th {\n",
       "        vertical-align: top;\n",
       "    }\n",
       "\n",
       "    .dataframe thead th {\n",
       "        text-align: right;\n",
       "    }\n",
       "</style>\n",
       "<table border=\"1\" class=\"dataframe\">\n",
       "  <thead>\n",
       "    <tr style=\"text-align: right;\">\n",
       "      <th></th>\n",
       "      <th>Open</th>\n",
       "      <th>High</th>\n",
       "      <th>Low</th>\n",
       "      <th>Close*</th>\n",
       "      <th>Adj Close**</th>\n",
       "      <th>Volume</th>\n",
       "    </tr>\n",
       "    <tr>\n",
       "      <th>Date</th>\n",
       "      <th></th>\n",
       "      <th></th>\n",
       "      <th></th>\n",
       "      <th></th>\n",
       "      <th></th>\n",
       "      <th></th>\n",
       "    </tr>\n",
       "  </thead>\n",
       "  <tbody>\n",
       "    <tr>\n",
       "      <th>01-Aug-21</th>\n",
       "      <td>4,406.86</td>\n",
       "      <td>4,440.82</td>\n",
       "      <td>4,373.00</td>\n",
       "      <td>4,432.35</td>\n",
       "      <td>4,432.35</td>\n",
       "      <td>17,961,970,000</td>\n",
       "    </tr>\n",
       "    <tr>\n",
       "      <th>01-Jul-21</th>\n",
       "      <td>4,300.73</td>\n",
       "      <td>4,429.97</td>\n",
       "      <td>4,233.13</td>\n",
       "      <td>4,395.26</td>\n",
       "      <td>4,395.26</td>\n",
       "      <td>66,496,430,000</td>\n",
       "    </tr>\n",
       "    <tr>\n",
       "      <th>01-Jun-21</th>\n",
       "      <td>4,216.52</td>\n",
       "      <td>4,302.43</td>\n",
       "      <td>4,164.40</td>\n",
       "      <td>4,297.50</td>\n",
       "      <td>4,297.50</td>\n",
       "      <td>85,705,180,000</td>\n",
       "    </tr>\n",
       "    <tr>\n",
       "      <th>01-May-21</th>\n",
       "      <td>4,191.98</td>\n",
       "      <td>4,238.04</td>\n",
       "      <td>4,056.88</td>\n",
       "      <td>4,204.11</td>\n",
       "      <td>4,204.11</td>\n",
       "      <td>75,155,370,000</td>\n",
       "    </tr>\n",
       "    <tr>\n",
       "      <th>01-Apr-21</th>\n",
       "      <td>3,992.78</td>\n",
       "      <td>4,218.78</td>\n",
       "      <td>3,992.78</td>\n",
       "      <td>4,181.17</td>\n",
       "      <td>4,181.17</td>\n",
       "      <td>82,869,290,000</td>\n",
       "    </tr>\n",
       "  </tbody>\n",
       "</table>\n",
       "</div>"
      ],
      "text/plain": [
       "               Open      High       Low    Close* Adj Close**          Volume\n",
       "Date                                                                         \n",
       "01-Aug-21  4,406.86  4,440.82  4,373.00  4,432.35    4,432.35  17,961,970,000\n",
       "01-Jul-21  4,300.73  4,429.97  4,233.13  4,395.26    4,395.26  66,496,430,000\n",
       "01-Jun-21  4,216.52  4,302.43  4,164.40  4,297.50    4,297.50  85,705,180,000\n",
       "01-May-21  4,191.98  4,238.04  4,056.88  4,204.11    4,204.11  75,155,370,000\n",
       "01-Apr-21  3,992.78  4,218.78  3,992.78  4,181.17    4,181.17  82,869,290,000"
      ]
     },
     "execution_count": 3,
     "metadata": {},
     "output_type": "execute_result"
    }
   ],
   "source": [
    "sp.head()"
   ]
  },
  {
   "cell_type": "code",
   "execution_count": 4,
   "metadata": {},
   "outputs": [
    {
     "data": {
      "text/html": [
       "<div>\n",
       "<style scoped>\n",
       "    .dataframe tbody tr th:only-of-type {\n",
       "        vertical-align: middle;\n",
       "    }\n",
       "\n",
       "    .dataframe tbody tr th {\n",
       "        vertical-align: top;\n",
       "    }\n",
       "\n",
       "    .dataframe thead th {\n",
       "        text-align: right;\n",
       "    }\n",
       "</style>\n",
       "<table border=\"1\" class=\"dataframe\">\n",
       "  <thead>\n",
       "    <tr style=\"text-align: right;\">\n",
       "      <th></th>\n",
       "      <th>Open</th>\n",
       "      <th>High</th>\n",
       "      <th>Low</th>\n",
       "      <th>Close</th>\n",
       "      <th>Adj Close</th>\n",
       "      <th>Volume</th>\n",
       "    </tr>\n",
       "    <tr>\n",
       "      <th>Date</th>\n",
       "      <th></th>\n",
       "      <th></th>\n",
       "      <th></th>\n",
       "      <th></th>\n",
       "      <th></th>\n",
       "      <th></th>\n",
       "    </tr>\n",
       "  </thead>\n",
       "  <tbody>\n",
       "    <tr>\n",
       "      <th>2004-12-01</th>\n",
       "      <td>45.279999</td>\n",
       "      <td>46.000000</td>\n",
       "      <td>43.200001</td>\n",
       "      <td>43.799999</td>\n",
       "      <td>43.799999</td>\n",
       "      <td>60797000</td>\n",
       "    </tr>\n",
       "    <tr>\n",
       "      <th>2005-01-01</th>\n",
       "      <td>42.980000</td>\n",
       "      <td>43.169998</td>\n",
       "      <td>41.700001</td>\n",
       "      <td>42.220001</td>\n",
       "      <td>42.220001</td>\n",
       "      <td>35535200</td>\n",
       "    </tr>\n",
       "    <tr>\n",
       "      <th>2005-02-01</th>\n",
       "      <td>42.090000</td>\n",
       "      <td>43.740002</td>\n",
       "      <td>41.020000</td>\n",
       "      <td>43.529999</td>\n",
       "      <td>43.529999</td>\n",
       "      <td>40148400</td>\n",
       "    </tr>\n",
       "    <tr>\n",
       "      <th>2005-03-01</th>\n",
       "      <td>43.299999</td>\n",
       "      <td>44.669998</td>\n",
       "      <td>42.349998</td>\n",
       "      <td>42.820000</td>\n",
       "      <td>42.820000</td>\n",
       "      <td>41040400</td>\n",
       "    </tr>\n",
       "    <tr>\n",
       "      <th>2005-04-01</th>\n",
       "      <td>42.599998</td>\n",
       "      <td>43.700001</td>\n",
       "      <td>42.160000</td>\n",
       "      <td>43.349998</td>\n",
       "      <td>43.349998</td>\n",
       "      <td>38430000</td>\n",
       "    </tr>\n",
       "  </tbody>\n",
       "</table>\n",
       "</div>"
      ],
      "text/plain": [
       "                 Open       High        Low      Close  Adj Close    Volume\n",
       "Date                                                                       \n",
       "2004-12-01  45.279999  46.000000  43.200001  43.799999  43.799999  60797000\n",
       "2005-01-01  42.980000  43.169998  41.700001  42.220001  42.220001  35535200\n",
       "2005-02-01  42.090000  43.740002  41.020000  43.529999  43.529999  40148400\n",
       "2005-03-01  43.299999  44.669998  42.349998  42.820000  42.820000  41040400\n",
       "2005-04-01  42.599998  43.700001  42.160000  43.349998  43.349998  38430000"
      ]
     },
     "execution_count": 4,
     "metadata": {},
     "output_type": "execute_result"
    }
   ],
   "source": [
    "gld.head()"
   ]
  },
  {
   "cell_type": "code",
   "execution_count": 5,
   "metadata": {},
   "outputs": [
    {
     "data": {
      "text/html": [
       "<div>\n",
       "<style scoped>\n",
       "    .dataframe tbody tr th:only-of-type {\n",
       "        vertical-align: middle;\n",
       "    }\n",
       "\n",
       "    .dataframe tbody tr th {\n",
       "        vertical-align: top;\n",
       "    }\n",
       "\n",
       "    .dataframe thead th {\n",
       "        text-align: right;\n",
       "    }\n",
       "</style>\n",
       "<table border=\"1\" class=\"dataframe\">\n",
       "  <thead>\n",
       "    <tr style=\"text-align: right;\">\n",
       "      <th></th>\n",
       "      <th>Open</th>\n",
       "      <th>High</th>\n",
       "      <th>Low</th>\n",
       "      <th>Close</th>\n",
       "      <th>Adj Close</th>\n",
       "      <th>Volume</th>\n",
       "    </tr>\n",
       "    <tr>\n",
       "      <th>Date</th>\n",
       "      <th></th>\n",
       "      <th></th>\n",
       "      <th></th>\n",
       "      <th></th>\n",
       "      <th></th>\n",
       "      <th></th>\n",
       "    </tr>\n",
       "  </thead>\n",
       "  <tbody>\n",
       "    <tr>\n",
       "      <th>2004-02-01</th>\n",
       "      <td>85.220001</td>\n",
       "      <td>86.739998</td>\n",
       "      <td>85.000000</td>\n",
       "      <td>86.680000</td>\n",
       "      <td>54.143299</td>\n",
       "      <td>3032300</td>\n",
       "    </tr>\n",
       "    <tr>\n",
       "      <th>2004-03-01</th>\n",
       "      <td>86.650002</td>\n",
       "      <td>88.550003</td>\n",
       "      <td>85.699997</td>\n",
       "      <td>87.550003</td>\n",
       "      <td>54.850189</td>\n",
       "      <td>6808200</td>\n",
       "    </tr>\n",
       "    <tr>\n",
       "      <th>2004-04-01</th>\n",
       "      <td>87.220001</td>\n",
       "      <td>87.250000</td>\n",
       "      <td>83.110001</td>\n",
       "      <td>83.500000</td>\n",
       "      <td>52.464756</td>\n",
       "      <td>5043200</td>\n",
       "    </tr>\n",
       "    <tr>\n",
       "      <th>2004-05-01</th>\n",
       "      <td>83.160004</td>\n",
       "      <td>83.650002</td>\n",
       "      <td>81.309998</td>\n",
       "      <td>82.790001</td>\n",
       "      <td>52.171230</td>\n",
       "      <td>4531600</td>\n",
       "    </tr>\n",
       "    <tr>\n",
       "      <th>2004-06-01</th>\n",
       "      <td>82.260002</td>\n",
       "      <td>83.110001</td>\n",
       "      <td>81.250000</td>\n",
       "      <td>83.050003</td>\n",
       "      <td>52.503536</td>\n",
       "      <td>3883800</td>\n",
       "    </tr>\n",
       "  </tbody>\n",
       "</table>\n",
       "</div>"
      ],
      "text/plain": [
       "                 Open       High        Low      Close  Adj Close   Volume\n",
       "Date                                                                      \n",
       "2004-02-01  85.220001  86.739998  85.000000  86.680000  54.143299  3032300\n",
       "2004-03-01  86.650002  88.550003  85.699997  87.550003  54.850189  6808200\n",
       "2004-04-01  87.220001  87.250000  83.110001  83.500000  52.464756  5043200\n",
       "2004-05-01  83.160004  83.650002  81.309998  82.790001  52.171230  4531600\n",
       "2004-06-01  82.260002  83.110001  81.250000  83.050003  52.503536  3883800"
      ]
     },
     "execution_count": 5,
     "metadata": {},
     "output_type": "execute_result"
    }
   ],
   "source": [
    "ief.head()"
   ]
  },
  {
   "cell_type": "code",
   "execution_count": 6,
   "metadata": {},
   "outputs": [],
   "source": [
    "sp.index = pd.to_datetime(sp.index)\n",
    "gld.index = pd.to_datetime(gld.index)\n",
    "ief.index = pd.to_datetime(ief.index)"
   ]
  },
  {
   "cell_type": "code",
   "execution_count": 7,
   "metadata": {},
   "outputs": [
    {
     "name": "stderr",
     "output_type": "stream",
     "text": [
      "/Users/davidlam/opt/anaconda3/lib/python3.7/site-packages/pandas/core/indexing.py:1109: FutureWarning: Value based partial slicing on non-monotonic DatetimeIndexes with non-existing keys is deprecated and will raise a KeyError in a future Version.\n",
      "  return self._getitem_tuple_same_dim(tup)\n"
     ]
    }
   ],
   "source": [
    "sp = sp.loc['2005-12-01':, :].sort_index()\n",
    "gld = gld.loc['2006':, :].sort_index()\n",
    "ief = ief.loc['2006':,:].sort_index()"
   ]
  },
  {
   "cell_type": "code",
   "execution_count": 8,
   "metadata": {},
   "outputs": [],
   "source": [
    "ief = ief[['Adj Close']]\n",
    "gld = gld[['Adj Close']]\n",
    "sp = sp[['Adj Close**']]\n",
    "sp.columns = ['Adj Close']"
   ]
  },
  {
   "cell_type": "code",
   "execution_count": 9,
   "metadata": {},
   "outputs": [],
   "source": [
    "sp.sort_index()\n",
    "sp_num = sp['Adj Close'].str.replace(\",\", '')\n",
    "sp_num = pd.DataFrame(sp_num)\n",
    "sp_num = pd.to_numeric(sp_num['Adj Close'])\n",
    "sp_num = pd.DataFrame(sp_num)"
   ]
  },
  {
   "cell_type": "code",
   "execution_count": 10,
   "metadata": {},
   "outputs": [],
   "source": [
    "# Bring the time series to base value for SP500\n",
    "\n",
    "sp_first = sp_num.iloc[0,0]\n",
    "sp_df = sp_num.div(sp_first).mul(1000)\n",
    "\n",
    "# Bring the time series to base value for GLD\n",
    "\n",
    "gld_first = gld.iloc[0,0]\n",
    "gld_df = gld.div(gld_first).mul(1000)\n",
    "\n",
    "\n",
    "# Bring the time series to base value for GLD\n",
    "\n",
    "ief_first = gld.iloc[0,0]\n",
    "ief_df = ief.div(ief_first).mul(1000)"
   ]
  },
  {
   "cell_type": "markdown",
   "metadata": {},
   "source": [
    "# Conservative or Risk Seeking Strategy?"
   ]
  },
  {
   "cell_type": "code",
   "execution_count": 11,
   "metadata": {},
   "outputs": [
    {
     "data": {
      "text/plain": [
       "<matplotlib.legend.Legend at 0x7fde40b2cb90>"
      ]
     },
     "execution_count": 11,
     "metadata": {},
     "output_type": "execute_result"
    },
    {
     "data": {
      "image/png": "[encoded data removed]",
      "text/plain": [
       "<Figure size 1080x720 with 1 Axes>"
      ]
     },
     "metadata": {
      "needs_background": "light"
     },
     "output_type": "display_data"
    }
   ],
   "source": [
    "plt.figure(figsize=(15,10))\n",
    "\n",
    "plt.plot(sp_df, label='S&P 500 Index')\n",
    "plt.plot(gld_df, label='Gold ETF')\n",
    "plt.plot(ief_df, label='7-10yr US Treasury ETF')\n",
    "\n",
    "plt.ylabel('Value of $1000 Invested')\n",
    "plt.xlabel('Time')\n",
    "plt.legend(loc = 'upper left')"
   ]
  },
  {
   "cell_type": "code",
   "execution_count": 12,
   "metadata": {},
   "outputs": [],
   "source": [
    "fed = pd.read_csv('Fed Assets.csv')"
   ]
  },
  {
   "cell_type": "code",
   "execution_count": 13,
   "metadata": {},
   "outputs": [],
   "source": [
    "fed['Date'] = pd.to_datetime(fed['Date'], format='%d-%b-%y')\n",
    "fed = fed.set_index(fed['Date']).drop('Date', axis=1)"
   ]
  },
  {
   "cell_type": "code",
   "execution_count": 14,
   "metadata": {
    "scrolled": true
   },
   "outputs": [
    {
     "data": {
      "text/html": [
       "<div>\n",
       "<style scoped>\n",
       "    .dataframe tbody tr th:only-of-type {\n",
       "        vertical-align: middle;\n",
       "    }\n",
       "\n",
       "    .dataframe tbody tr th {\n",
       "        vertical-align: top;\n",
       "    }\n",
       "\n",
       "    .dataframe thead th {\n",
       "        text-align: right;\n",
       "    }\n",
       "</style>\n",
       "<table border=\"1\" class=\"dataframe\">\n",
       "  <thead>\n",
       "    <tr style=\"text-align: right;\">\n",
       "      <th></th>\n",
       "      <th>Total Assets</th>\n",
       "    </tr>\n",
       "    <tr>\n",
       "      <th>Date</th>\n",
       "      <th></th>\n",
       "    </tr>\n",
       "  </thead>\n",
       "  <tbody>\n",
       "    <tr>\n",
       "      <th>2007-08-01</th>\n",
       "      <td>870261</td>\n",
       "    </tr>\n",
       "    <tr>\n",
       "      <th>2007-08-08</th>\n",
       "      <td>865453</td>\n",
       "    </tr>\n",
       "    <tr>\n",
       "      <th>2007-08-15</th>\n",
       "      <td>864931</td>\n",
       "    </tr>\n",
       "    <tr>\n",
       "      <th>2007-08-22</th>\n",
       "      <td>862775</td>\n",
       "    </tr>\n",
       "    <tr>\n",
       "      <th>2007-08-29</th>\n",
       "      <td>872873</td>\n",
       "    </tr>\n",
       "    <tr>\n",
       "      <th>...</th>\n",
       "      <td>...</td>\n",
       "    </tr>\n",
       "    <tr>\n",
       "      <th>2021-07-07</th>\n",
       "      <td>8097773</td>\n",
       "    </tr>\n",
       "    <tr>\n",
       "      <th>2021-07-14</th>\n",
       "      <td>8201651</td>\n",
       "    </tr>\n",
       "    <tr>\n",
       "      <th>2021-07-21</th>\n",
       "      <td>8240530</td>\n",
       "    </tr>\n",
       "    <tr>\n",
       "      <th>2021-07-28</th>\n",
       "      <td>8221473</td>\n",
       "    </tr>\n",
       "    <tr>\n",
       "      <th>2021-08-04</th>\n",
       "      <td>8235073</td>\n",
       "    </tr>\n",
       "  </tbody>\n",
       "</table>\n",
       "<p>732 rows × 1 columns</p>\n",
       "</div>"
      ],
      "text/plain": [
       "            Total Assets\n",
       "Date                    \n",
       "2007-08-01        870261\n",
       "2007-08-08        865453\n",
       "2007-08-15        864931\n",
       "2007-08-22        862775\n",
       "2007-08-29        872873\n",
       "...                  ...\n",
       "2021-07-07       8097773\n",
       "2021-07-14       8201651\n",
       "2021-07-21       8240530\n",
       "2021-07-28       8221473\n",
       "2021-08-04       8235073\n",
       "\n",
       "[732 rows x 1 columns]"
      ]
     },
     "execution_count": 14,
     "metadata": {},
     "output_type": "execute_result"
    }
   ],
   "source": [
    "fed"
   ]
  },
  {
   "cell_type": "markdown",
   "metadata": {},
   "source": [
    "# Can you diversify with a standard Fixed Income/Equity portfolio?"
   ]
  },
  {
   "cell_type": "code",
   "execution_count": 15,
   "metadata": {
    "scrolled": true
   },
   "outputs": [
    {
     "data": {
      "text/plain": [
       "Text(0, 0.5, '7-10yr US Treasury ETF')"
      ]
     },
     "execution_count": 15,
     "metadata": {},
     "output_type": "execute_result"
    },
    {
     "data": {
      "image/png": "[encoded data removed]",
      "text/plain": [
       "<Figure size 720x360 with 1 Axes>"
      ]
     },
     "metadata": {
      "needs_background": "light"
     },
     "output_type": "display_data"
    }
   ],
   "source": [
    "plt.figure(figsize=(10,5))\n",
    "\n",
    "plt.scatter(sp_num, ief)\n",
    "plt.xlabel('S&P 500')\n",
    "plt.ylabel('7-10yr US Treasury ETF')"
   ]
  },
  {
   "cell_type": "code",
   "execution_count": 16,
   "metadata": {},
   "outputs": [
    {
     "data": {
      "text/html": [
       "<div>\n",
       "<style scoped>\n",
       "    .dataframe tbody tr th:only-of-type {\n",
       "        vertical-align: middle;\n",
       "    }\n",
       "\n",
       "    .dataframe tbody tr th {\n",
       "        vertical-align: top;\n",
       "    }\n",
       "\n",
       "    .dataframe thead th {\n",
       "        text-align: right;\n",
       "    }\n",
       "</style>\n",
       "<table border=\"1\" class=\"dataframe\">\n",
       "  <thead>\n",
       "    <tr style=\"text-align: right;\">\n",
       "      <th></th>\n",
       "      <th>SP500</th>\n",
       "      <th>IEF</th>\n",
       "    </tr>\n",
       "    <tr>\n",
       "      <th>Date</th>\n",
       "      <th></th>\n",
       "      <th></th>\n",
       "    </tr>\n",
       "  </thead>\n",
       "  <tbody>\n",
       "    <tr>\n",
       "      <th>2006-01-01</th>\n",
       "      <td>1280.08</td>\n",
       "      <td>990.155926</td>\n",
       "    </tr>\n",
       "    <tr>\n",
       "      <th>2006-02-01</th>\n",
       "      <td>1280.66</td>\n",
       "      <td>985.996420</td>\n",
       "    </tr>\n",
       "    <tr>\n",
       "      <th>2006-03-01</th>\n",
       "      <td>1294.87</td>\n",
       "      <td>972.559736</td>\n",
       "    </tr>\n",
       "    <tr>\n",
       "      <th>2006-04-01</th>\n",
       "      <td>1310.61</td>\n",
       "      <td>966.490195</td>\n",
       "    </tr>\n",
       "    <tr>\n",
       "      <th>2006-05-01</th>\n",
       "      <td>1270.09</td>\n",
       "      <td>965.021041</td>\n",
       "    </tr>\n",
       "    <tr>\n",
       "      <th>...</th>\n",
       "      <td>...</td>\n",
       "      <td>...</td>\n",
       "    </tr>\n",
       "    <tr>\n",
       "      <th>2021-04-01</th>\n",
       "      <td>4181.17</td>\n",
       "      <td>2003.836349</td>\n",
       "    </tr>\n",
       "    <tr>\n",
       "      <th>2021-05-01</th>\n",
       "      <td>4204.11</td>\n",
       "      <td>2012.291129</td>\n",
       "    </tr>\n",
       "    <tr>\n",
       "      <th>2021-06-01</th>\n",
       "      <td>4297.50</td>\n",
       "      <td>2032.783509</td>\n",
       "    </tr>\n",
       "    <tr>\n",
       "      <th>2021-07-01</th>\n",
       "      <td>4395.26</td>\n",
       "      <td>2073.290351</td>\n",
       "    </tr>\n",
       "    <tr>\n",
       "      <th>2021-08-01</th>\n",
       "      <td>4432.35</td>\n",
       "      <td>2058.282098</td>\n",
       "    </tr>\n",
       "  </tbody>\n",
       "</table>\n",
       "<p>188 rows × 2 columns</p>\n",
       "</div>"
      ],
      "text/plain": [
       "              SP500          IEF\n",
       "Date                            \n",
       "2006-01-01  1280.08   990.155926\n",
       "2006-02-01  1280.66   985.996420\n",
       "2006-03-01  1294.87   972.559736\n",
       "2006-04-01  1310.61   966.490195\n",
       "2006-05-01  1270.09   965.021041\n",
       "...             ...          ...\n",
       "2021-04-01  4181.17  2003.836349\n",
       "2021-05-01  4204.11  2012.291129\n",
       "2021-06-01  4297.50  2032.783509\n",
       "2021-07-01  4395.26  2073.290351\n",
       "2021-08-01  4432.35  2058.282098\n",
       "\n",
       "[188 rows x 2 columns]"
      ]
     },
     "execution_count": 16,
     "metadata": {},
     "output_type": "execute_result"
    }
   ],
   "source": [
    "# create a df with SP500, IEF and fed assets combined\n",
    "\n",
    "combined_df = pd.concat([sp_num, ief_df], axis=1)\n",
    "combined_df.columns = ['SP500', 'IEF']\n",
    "combined_df"
   ]
  },
  {
   "cell_type": "code",
   "execution_count": 17,
   "metadata": {},
   "outputs": [],
   "source": [
    "fed_stock = pd.concat([combined_df, fed], axis=1)"
   ]
  },
  {
   "cell_type": "code",
   "execution_count": 18,
   "metadata": {},
   "outputs": [],
   "source": [
    "fed_stock = fed_stock.loc[~fed_stock['SP500'].isnull(),:]\n",
    "fed_stock_complete = fed_stock[~fed_stock['Total Assets'].isnull()]"
   ]
  },
  {
   "cell_type": "code",
   "execution_count": 19,
   "metadata": {
    "scrolled": false
   },
   "outputs": [
    {
     "data": {
      "text/html": [
       "<div>\n",
       "<style scoped>\n",
       "    .dataframe tbody tr th:only-of-type {\n",
       "        vertical-align: middle;\n",
       "    }\n",
       "\n",
       "    .dataframe tbody tr th {\n",
       "        vertical-align: top;\n",
       "    }\n",
       "\n",
       "    .dataframe thead th {\n",
       "        text-align: right;\n",
       "    }\n",
       "</style>\n",
       "<table border=\"1\" class=\"dataframe\">\n",
       "  <thead>\n",
       "    <tr style=\"text-align: right;\">\n",
       "      <th></th>\n",
       "      <th>SP500</th>\n",
       "      <th>IEF</th>\n",
       "      <th>Total Assets</th>\n",
       "    </tr>\n",
       "    <tr>\n",
       "      <th>Date</th>\n",
       "      <th></th>\n",
       "      <th></th>\n",
       "      <th></th>\n",
       "    </tr>\n",
       "  </thead>\n",
       "  <tbody>\n",
       "    <tr>\n",
       "      <th>2007-08-01</th>\n",
       "      <td>1473.99</td>\n",
       "      <td>1067.242009</td>\n",
       "      <td>870261.0</td>\n",
       "    </tr>\n",
       "    <tr>\n",
       "      <th>2008-10-01</th>\n",
       "      <td>968.75</td>\n",
       "      <td>1170.212801</td>\n",
       "      <td>1503989.0</td>\n",
       "    </tr>\n",
       "    <tr>\n",
       "      <th>2009-04-01</th>\n",
       "      <td>872.81</td>\n",
       "      <td>1271.826239</td>\n",
       "      <td>2078936.0</td>\n",
       "    </tr>\n",
       "    <tr>\n",
       "      <th>2009-07-01</th>\n",
       "      <td>987.48</td>\n",
       "      <td>1248.866327</td>\n",
       "      <td>2005627.0</td>\n",
       "    </tr>\n",
       "    <tr>\n",
       "      <th>2010-09-01</th>\n",
       "      <td>1141.20</td>\n",
       "      <td>1416.736024</td>\n",
       "      <td>2301996.0</td>\n",
       "    </tr>\n",
       "    <tr>\n",
       "      <th>2010-12-01</th>\n",
       "      <td>1257.64</td>\n",
       "      <td>1352.212869</td>\n",
       "      <td>2346920.0</td>\n",
       "    </tr>\n",
       "    <tr>\n",
       "      <th>2011-06-01</th>\n",
       "      <td>1320.64</td>\n",
       "      <td>1402.704384</td>\n",
       "      <td>2788723.0</td>\n",
       "    </tr>\n",
       "    <tr>\n",
       "      <th>2012-02-01</th>\n",
       "      <td>1365.68</td>\n",
       "      <td>1565.125722</td>\n",
       "      <td>2924947.0</td>\n",
       "    </tr>\n",
       "    <tr>\n",
       "      <th>2012-08-01</th>\n",
       "      <td>1406.58</td>\n",
       "      <td>1638.695421</td>\n",
       "      <td>2851118.0</td>\n",
       "    </tr>\n",
       "    <tr>\n",
       "      <th>2013-05-01</th>\n",
       "      <td>1630.74</td>\n",
       "      <td>1602.694769</td>\n",
       "      <td>3317194.0</td>\n",
       "    </tr>\n",
       "    <tr>\n",
       "      <th>2014-01-01</th>\n",
       "      <td>1782.59</td>\n",
       "      <td>1577.056780</td>\n",
       "      <td>4023640.0</td>\n",
       "    </tr>\n",
       "    <tr>\n",
       "      <th>2014-10-01</th>\n",
       "      <td>2018.05</td>\n",
       "      <td>1642.577537</td>\n",
       "      <td>4450260.0</td>\n",
       "    </tr>\n",
       "    <tr>\n",
       "      <th>2015-04-01</th>\n",
       "      <td>2085.51</td>\n",
       "      <td>1698.665967</td>\n",
       "      <td>4481799.0</td>\n",
       "    </tr>\n",
       "    <tr>\n",
       "      <th>2015-07-01</th>\n",
       "      <td>2103.84</td>\n",
       "      <td>1689.393074</td>\n",
       "      <td>4479130.0</td>\n",
       "    </tr>\n",
       "    <tr>\n",
       "      <th>2016-06-01</th>\n",
       "      <td>2098.86</td>\n",
       "      <td>1822.857428</td>\n",
       "      <td>4461393.0</td>\n",
       "    </tr>\n",
       "    <tr>\n",
       "      <th>2017-02-01</th>\n",
       "      <td>2363.64</td>\n",
       "      <td>1724.624608</td>\n",
       "      <td>4453881.0</td>\n",
       "    </tr>\n",
       "    <tr>\n",
       "      <th>2017-03-01</th>\n",
       "      <td>2362.72</td>\n",
       "      <td>1726.257853</td>\n",
       "      <td>4458018.0</td>\n",
       "    </tr>\n",
       "    <tr>\n",
       "      <th>2017-11-01</th>\n",
       "      <td>2647.58</td>\n",
       "      <td>1748.815031</td>\n",
       "      <td>4455887.0</td>\n",
       "    </tr>\n",
       "    <tr>\n",
       "      <th>2018-08-01</th>\n",
       "      <td>2901.52</td>\n",
       "      <td>1723.714467</td>\n",
       "      <td>4255653.0</td>\n",
       "    </tr>\n",
       "    <tr>\n",
       "      <th>2019-05-01</th>\n",
       "      <td>2752.06</td>\n",
       "      <td>1863.447551</td>\n",
       "      <td>3889691.0</td>\n",
       "    </tr>\n",
       "    <tr>\n",
       "      <th>2020-01-01</th>\n",
       "      <td>3225.52</td>\n",
       "      <td>1980.728713</td>\n",
       "      <td>4173626.0</td>\n",
       "    </tr>\n",
       "    <tr>\n",
       "      <th>2020-04-01</th>\n",
       "      <td>2912.43</td>\n",
       "      <td>2118.620386</td>\n",
       "      <td>5811607.0</td>\n",
       "    </tr>\n",
       "    <tr>\n",
       "      <th>2020-07-01</th>\n",
       "      <td>3271.12</td>\n",
       "      <td>2145.235271</td>\n",
       "      <td>7009040.0</td>\n",
       "    </tr>\n",
       "  </tbody>\n",
       "</table>\n",
       "</div>"
      ],
      "text/plain": [
       "              SP500          IEF  Total Assets\n",
       "Date                                          \n",
       "2007-08-01  1473.99  1067.242009      870261.0\n",
       "2008-10-01   968.75  1170.212801     1503989.0\n",
       "2009-04-01   872.81  1271.826239     2078936.0\n",
       "2009-07-01   987.48  1248.866327     2005627.0\n",
       "2010-09-01  1141.20  1416.736024     2301996.0\n",
       "2010-12-01  1257.64  1352.212869     2346920.0\n",
       "2011-06-01  1320.64  1402.704384     2788723.0\n",
       "2012-02-01  1365.68  1565.125722     2924947.0\n",
       "2012-08-01  1406.58  1638.695421     2851118.0\n",
       "2013-05-01  1630.74  1602.694769     3317194.0\n",
       "2014-01-01  1782.59  1577.056780     4023640.0\n",
       "2014-10-01  2018.05  1642.577537     4450260.0\n",
       "2015-04-01  2085.51  1698.665967     4481799.0\n",
       "2015-07-01  2103.84  1689.393074     4479130.0\n",
       "2016-06-01  2098.86  1822.857428     4461393.0\n",
       "2017-02-01  2363.64  1724.624608     4453881.0\n",
       "2017-03-01  2362.72  1726.257853     4458018.0\n",
       "2017-11-01  2647.58  1748.815031     4455887.0\n",
       "2018-08-01  2901.52  1723.714467     4255653.0\n",
       "2019-05-01  2752.06  1863.447551     3889691.0\n",
       "2020-01-01  3225.52  1980.728713     4173626.0\n",
       "2020-04-01  2912.43  2118.620386     5811607.0\n",
       "2020-07-01  3271.12  2145.235271     7009040.0"
      ]
     },
     "execution_count": 19,
     "metadata": {},
     "output_type": "execute_result"
    }
   ],
   "source": [
    "fed_stock_complete"
   ]
  },
  {
   "cell_type": "markdown",
   "metadata": {},
   "source": [
    "# Savings rate has declined since 1980"
   ]
  },
  {
   "cell_type": "markdown",
   "metadata": {},
   "source": [
    "| Type          | 1980        | 1985      | 1990   | 2000 | 2001 | 2002|\n",
    "| ------------- | ----------- |-----------| -------|------|------|-----|\n",
    "| Fed Funds Rate| 13.35%      |8.10%      |  8.10% |6.24% | 3.88%|1.67%|\n",
    "\n"
   ]
  },
  {
   "cell_type": "markdown",
   "metadata": {},
   "source": [
    "# In today's environment, we have no choice but to take more risk"
   ]
  },
  {
   "cell_type": "code",
   "execution_count": 20,
   "metadata": {},
   "outputs": [
    {
     "data": {
      "text/plain": [
       "Text(0, 0.5, 'Feder Reserve Balance Sheet')"
      ]
     },
     "execution_count": 20,
     "metadata": {},
     "output_type": "execute_result"
    },
    {
     "data": {
      "image/png": "[encoded data removed]",
      "text/plain": [
       "<Figure size 1080x720 with 2 Axes>"
      ]
     },
     "metadata": {
      "needs_background": "light"
     },
     "output_type": "display_data"
    }
   ],
   "source": [
    "# create figure and axis objects with subplots()\n",
    "fig,ax = plt.subplots(figsize=(15,10))\n",
    "\n",
    "# make a plot\n",
    "ax.plot(fed_stock_complete.index, fed_stock_complete['SP500'], color=\"red\", marker=\"o\")\n",
    "# set x-axis label\n",
    "ax.set_xlabel(\"Date\",fontsize=14)\n",
    "# set y-axis label\n",
    "ax.set_ylabel(\"SP500 Price\",color=\"red\",fontsize=14)\n",
    "\n",
    "# twin object for two different y-axis on the sample plot\n",
    "ax2=ax.twinx()\n",
    "# make a plot with different y-axis using second axis object\n",
    "ax2.plot(fed_stock_complete.index, fed_stock_complete['Total Assets'],color=\"blue\",marker=\"o\")\n",
    "ax2.set_ylabel(\"Feder Reserve Balance Sheet\",color=\"blue\",fontsize=14)"
   ]
  },
  {
   "cell_type": "code",
   "execution_count": null,
   "metadata": {},
   "outputs": [],
   "source": []
  },
  {
   "cell_type": "code",
   "execution_count": null,
   "metadata": {},
   "outputs": [],
   "source": []
  }
 ],
 "metadata": {
  "kernelspec": {
   "display_name": "Python 3",
   "language": "python",
   "name": "python3"
  },
  "language_info": {
   "codemirror_mode": {
    "name": "ipython",
    "version": 3
   },
   "file_extension": ".py",
   "mimetype": "text/x-python",
   "name": "python",
   "nbconvert_exporter": "python",
   "pygments_lexer": "ipython3",
   "version": "3.7.6"
  }
 },
 "nbformat": 4,
 "nbformat_minor": 4
}
